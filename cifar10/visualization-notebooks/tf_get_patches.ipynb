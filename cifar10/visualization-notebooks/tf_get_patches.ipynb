{
 "cells": [
  {
   "cell_type": "code",
   "execution_count": 1,
   "metadata": {},
   "outputs": [],
   "source": [
    "import tensorflow as tf\n",
    "import numpy as np"
   ]
  },
  {
   "cell_type": "code",
   "execution_count": 2,
   "metadata": {},
   "outputs": [],
   "source": [
    "k = tf.constant([\n",
    "    [1, 0, 1],\n",
    "    [2, 1, 0],\n",
    "    [0, 0, 1]\n",
    "], dtype=tf.float32, name='k')\n",
    "i = tf.constant([\n",
    "    [4, 3, 1, 0],\n",
    "    [2, 1, 0, 1],\n",
    "    [1, 2, 4, 1],\n",
    "    [3, 1, 0, 2]\n",
    "], dtype=tf.float32, name='i')\n",
    "kernel = tf.reshape(k, [3, 3, 1, 1], name='kernel')\n",
    "image  = tf.reshape(i, [1, 4, 4, 1], name='image')"
   ]
  },
  {
   "cell_type": "code",
   "execution_count": 3,
   "metadata": {
    "scrolled": true
   },
   "outputs": [
    {
     "name": "stdout",
     "output_type": "stream",
     "text": [
      "[[[[14.]\n",
      "   [ 6.]]\n",
      "\n",
      "  [[ 6.]\n",
      "   [12.]]]]\n",
      "[[14.  6.]\n",
      " [ 6. 12.]]\n"
     ]
    }
   ],
   "source": [
    "res0 = tf.nn.conv2d(image, kernel, [1, 1, 1, 1], \"VALID\")\n",
    "res = tf.squeeze(res0)\n",
    "# VALID means no padding\n",
    "with tf.Session() as sess:\n",
    "    print(sess.run(res0))\n",
    "    print(sess.run(res))"
   ]
  },
  {
   "cell_type": "code",
   "execution_count": 6,
   "metadata": {},
   "outputs": [
    {
     "name": "stdout",
     "output_type": "stream",
     "text": [
      "(1, 4, 4, 1)\n",
      "(3, 3, 1, 1)\n",
      "[[[[14.]\n",
      "   [ 6.]]\n",
      "\n",
      "  [[ 6.]\n",
      "   [12.]]]]\n",
      "[[14.  6.]\n",
      " [ 6. 12.]]\n"
     ]
    }
   ],
   "source": [
    "with tf.Session() as sess:\n",
    "    print(image.shape)\n",
    "    print(kernel.shape)\n",
    "    print(sess.run(res0))\n",
    "    print(sess.run(res))"
   ]
  },
  {
   "cell_type": "code",
   "execution_count": null,
   "metadata": {},
   "outputs": [],
   "source": [
    "#def extract_image_patches(images, ksizes, strides, rates, padding, name=None):     \n",
    "    \"\"\"Extract `patches` from `images` and put them in the \"depth\" output dimension.\n",
    "\n",
    "    Args:                                                                                \n",
    "    images: A `Tensor`. Must be one of the following types: `float32`, `float64`, `int32`, `uint8`, `int16`, `int8`, `int64`, `bfloat16`,            ……`uint16`, `half`, `uint32`, `uint64`.\n",
    "      4-D Tensor with shape `[batch, in_rows, in_cols, depth]`.                        \n",
    "    ksizes: A list of `ints` that has length `>= 4`.                                   \n",
    "      The size of the sliding window for each dimension of `images`.                   \n",
    "    strides: A list of `ints` that has length `>= 4`.                                  \n",
    "      1-D of length 4. How far the centers of two consecutive patches are in           \n",
    "      the images. Must be: `[1, stride_rows, stride_cols, 1]`.                         \n",
    "    rates: A list of `ints` that has length `>= 4`.                                    \n",
    "      1-D of length 4. Must be: `[1, rate_rows, rate_cols, 1]`. This is the            \n",
    "      input stride, specifying how far two consecutive patch samples are in the    \n",
    "      input. Equivalent to extracting patches with                                     \n",
    "      `patch_sizes_eff = patch_sizes + (patch_sizes - 1) * (rates - 1)`, followed by\n",
    "      subsampling them spatially by a factor of `rates`. This is equivalent to     \n",
    "      `rate` in dilated (a.k.a. Atrous) convolutions.                                  \n",
    "    padding: A `string` from: `\"SAME\", \"VALID\"`.                                       \n",
    "      The type of padding algorithm to use.                                            \n",
    "\n",
    "      We specify the size-related attributes as:                                       \n",
    "\n",
    "      ```python                                                                        \n",
    "            ksizes = [1, ksize_rows, ksize_cols, 1]                                    \n",
    "            strides = [1, strides_rows, strides_cols, 1]                               \n",
    "            rates = [1, rates_rows, rates_cols, 1]                                     \n",
    "      ```                                                                              \n",
    "    name: A name for the operation (optional).  \n",
    "\n",
    "    Returns:                                                                         \n",
    "    A `Tensor`. Has the same type as `images`.                                     \n",
    "    \"\"\"  "
   ]
  },
  {
   "cell_type": "code",
   "execution_count": 38,
   "metadata": {},
   "outputs": [],
   "source": [
    "tf.extract_image_patches"
   ]
  },
  {
   "cell_type": "code",
   "execution_count": null,
   "metadata": {},
   "outputs": [],
   "source": [
    "    image_patches = tf.extract_image_patches(images=images,\n",
    "                                         ksizes=[1, filter_size, filter_size, 1],\n",
    "                                         strides=[1, 1, 1, 1], \n",
    "                                             rates=[1, 1, 1, 1],\n",
    "                                         padding='valid')"
   ]
  },
  {
   "cell_type": "code",
   "execution_count": 43,
   "metadata": {},
   "outputs": [
    {
     "data": {
      "text/plain": [
       "<tf.Tensor 'Shape:0' shape=(4,) dtype=int32>"
      ]
     },
     "execution_count": 43,
     "metadata": {},
     "output_type": "execute_result"
    }
   ],
   "source": [
    "tf.shape(kernel)"
   ]
  },
  {
   "cell_type": "code",
   "execution_count": 58,
   "metadata": {},
   "outputs": [
    {
     "name": "stdout",
     "output_type": "stream",
     "text": [
      "[3, 3, 1, 1]\n",
      "[[4. 3. 1. 0.]\n",
      " [2. 1. 0. 1.]\n",
      " [1. 2. 4. 1.]\n",
      " [3. 1. 0. 2.]]\n",
      "[[1. 0. 1.]\n",
      " [2. 1. 0.]\n",
      " [0. 0. 1.]]\n",
      "[[[[0. 0. 0. 0. 4. 3. 0. 2. 1.]\n",
      "   [0. 0. 0. 4. 3. 1. 2. 1. 0.]\n",
      "   [0. 0. 0. 3. 1. 0. 1. 0. 1.]\n",
      "   [0. 0. 0. 1. 0. 0. 0. 1. 0.]]\n",
      "\n",
      "  [[0. 4. 3. 0. 2. 1. 0. 1. 2.]\n",
      "   [4. 3. 1. 2. 1. 0. 1. 2. 4.]\n",
      "   [3. 1. 0. 1. 0. 1. 2. 4. 1.]\n",
      "   [1. 0. 0. 0. 1. 0. 4. 1. 0.]]\n",
      "\n",
      "  [[0. 2. 1. 0. 1. 2. 0. 3. 1.]\n",
      "   [2. 1. 0. 1. 2. 4. 3. 1. 0.]\n",
      "   [1. 0. 1. 2. 4. 1. 1. 0. 2.]\n",
      "   [0. 1. 0. 4. 1. 0. 0. 2. 0.]]\n",
      "\n",
      "  [[0. 1. 2. 0. 3. 1. 0. 0. 0.]\n",
      "   [1. 2. 4. 3. 1. 0. 0. 0. 0.]\n",
      "   [2. 4. 1. 1. 0. 2. 0. 0. 0.]\n",
      "   [4. 1. 0. 0. 2. 0. 0. 0. 0.]]]]\n"
     ]
    }
   ],
   "source": [
    "def get_flattned2(input, filter, strides, padding, use_cudnn_on_gpu=True, \n",
    "           data_format=\"NHWC\", dilations=[1, 1, 1, 1], name=None):\n",
    "    image_patches = tf.extract_image_patches(images=images,\n",
    "                                         ksizes=[1, filter_size, filter_size, 1],\n",
    "                                         strides=[1, 1, 1, 1], \n",
    "                                         rates=[1, 1, 1, 1],\n",
    "                                         padding='valid')\n",
    "    return image_patches\n",
    "#test = get_flattned2(image,3)\n",
    "\n",
    "with tf.Session() as sess:\n",
    "    print(sess.run(tf.squeeze(image)))\n",
    "    print(sess.run(tf.squeeze((kernel))))\n",
    "    print(sess.run(test))"
   ]
  },
  {
   "cell_type": "code",
   "execution_count": 62,
   "metadata": {},
   "outputs": [],
   "source": [
    "actual = tf.reduce_sum(tf.multiply(image, tf.reshape(kernel, [9])), 3, keep_dims=True)\n",
    "expected = tf.nn.conv2d(image, kernel, strides=[1, 1, 1, 1], padding='SAME')\n",
    "\n",
    "\n",
    "    "
   ]
  },
  {
   "cell_type": "code",
   "execution_count": 69,
   "metadata": {},
   "outputs": [
    {
     "name": "stdout",
     "output_type": "stream",
     "text": [
      "[[4. 3. 1. 0.]\n",
      " [2. 1. 0. 1.]\n",
      " [1. 2. 4. 1.]\n",
      " [3. 1. 0. 2.]]\n",
      "[[1. 0. 1.]\n",
      " [2. 1. 0.]\n",
      " [0. 0. 1.]]\n",
      "[[24. 18.  6.  0.]\n",
      " [12.  6.  0.  6.]\n",
      " [ 6. 12. 24.  6.]\n",
      " [18.  6.  0. 12.]]\n",
      "[[ 5. 11.  8.  2.]\n",
      " [ 7. 14.  6.  2.]\n",
      " [ 3.  6. 12.  9.]\n",
      " [ 5. 12.  5.  6.]]\n"
     ]
    }
   ],
   "source": [
    "with tf.Session() as sess:\n",
    "    print(sess.run(tf.squeeze(image)))\n",
    "    print(sess.run(tf.squeeze(kernel)))\n",
    "    print(sess.run(tf.squeeze(actual)))\n",
    "    print(sess.run(tf.squeeze(expected)))"
   ]
  },
  {
   "cell_type": "code",
   "execution_count": 86,
   "metadata": {
    "scrolled": false
   },
   "outputs": [
    {
     "name": "stdout",
     "output_type": "stream",
     "text": [
      "input\n",
      "[[ 0.  1.  2.  3.  4.]\n",
      " [ 5.  6.  7.  8.  9.]\n",
      " [10. 11. 12. 13. 14.]\n",
      " [15. 16. 17. 18. 19.]\n",
      " [20. 21. 22. 23. 24.]]\n",
      "kernel\n",
      "[[-1.  0.  1.]\n",
      " [-2.  0.  2.]\n",
      " [-1.  0.  1.]]\n",
      "im2col-image\n",
      "You see several matrices, each matrix has the elements to compute a full line_i of the output\n",
      "each line_i of the one of these matrices produces one element j of a line in the output matrix\n",
      "[[[ 0.  0.  0.  0.  0.  1.  0.  5.  6.]\n",
      "  [ 0.  0.  0.  0.  1.  2.  5.  6.  7.]\n",
      "  [ 0.  0.  0.  1.  2.  3.  6.  7.  8.]\n",
      "  [ 0.  0.  0.  2.  3.  4.  7.  8.  9.]\n",
      "  [ 0.  0.  0.  3.  4.  0.  8.  9.  0.]]\n",
      "\n",
      " [[ 0.  0.  1.  0.  5.  6.  0. 10. 11.]\n",
      "  [ 0.  1.  2.  5.  6.  7. 10. 11. 12.]\n",
      "  [ 1.  2.  3.  6.  7.  8. 11. 12. 13.]\n",
      "  [ 2.  3.  4.  7.  8.  9. 12. 13. 14.]\n",
      "  [ 3.  4.  0.  8.  9.  0. 13. 14.  0.]]\n",
      "\n",
      " [[ 0.  5.  6.  0. 10. 11.  0. 15. 16.]\n",
      "  [ 5.  6.  7. 10. 11. 12. 15. 16. 17.]\n",
      "  [ 6.  7.  8. 11. 12. 13. 16. 17. 18.]\n",
      "  [ 7.  8.  9. 12. 13. 14. 17. 18. 19.]\n",
      "  [ 8.  9.  0. 13. 14.  0. 18. 19.  0.]]\n",
      "\n",
      " [[ 0. 10. 11.  0. 15. 16.  0. 20. 21.]\n",
      "  [10. 11. 12. 15. 16. 17. 20. 21. 22.]\n",
      "  [11. 12. 13. 16. 17. 18. 21. 22. 23.]\n",
      "  [12. 13. 14. 17. 18. 19. 22. 23. 24.]\n",
      "  [13. 14.  0. 18. 19.  0. 23. 24.  0.]]\n",
      "\n",
      " [[ 0. 15. 16.  0. 20. 21.  0.  0.  0.]\n",
      "  [15. 16. 17. 20. 21. 22.  0.  0.  0.]\n",
      "  [16. 17. 18. 21. 22. 23.  0.  0.  0.]\n",
      "  [17. 18. 19. 22. 23. 24.  0.  0.  0.]\n",
      "  [18. 19.  0. 23. 24.  0.  0.  0.  0.]]]\n",
      "im2col-filter\n",
      "[-1.  0.  1. -2.  0.  2. -1.  0.  1.]\n",
      "actual\n",
      "[[  8.   6.   6.   6. -14.]\n",
      " [ 24.   8.   8.   8. -32.]\n",
      " [ 44.   8.   8.   8. -52.]\n",
      " [ 64.   8.   8.   8. -72.]\n",
      " [ 58.   6.   6.   6. -64.]]\n",
      "expected\n",
      "[[  8.   6.   6.   6. -14.]\n",
      " [ 24.   8.   8.   8. -32.]\n",
      " [ 44.   8.   8.   8. -52.]\n",
      " [ 64.   8.   8.   8. -72.]\n",
      " [ 58.   6.   6.   6. -64.]]\n",
      "If result is zero, we are good:\n",
      "0.0\n"
     ]
    }
   ],
   "source": [
    "import tensorflow as tf\n",
    "import numpy as np\n",
    "\n",
    "image = np.arange(5 * 5 * 1).reshape(1, 5, 5, 1)\n",
    "\n",
    "images = tf.convert_to_tensor(image.astype(np.float32))\n",
    "\n",
    "filter_size = 3\n",
    "sobel_x = tf.constant([[-1, 0, 1], [-2, 0, 2], [-1, 0, 1]], tf.float32)\n",
    "sobel_x_filter = tf.reshape(sobel_x, [3, 3, 1, 1])\n",
    "\n",
    "image_patches = tf.extract_image_patches(images,\n",
    "                                         [1, filter_size, filter_size, 1],\n",
    "                                         [1, 1, 1, 1], [1, 1, 1, 1],\n",
    "                                         padding='SAME')\n",
    "\n",
    "\n",
    "actual = tf.reduce_sum(tf.multiply(image_patches, tf.reshape(sobel_x_filter, [9])), 3, keep_dims=True)\n",
    "expected = tf.nn.conv2d(images, sobel_x_filter, strides=[1, 1, 1, 1], padding='SAME')\n",
    "\n",
    "with tf.Session() as sess:\n",
    "    print(\"input\")\n",
    "    print(sess.run(tf.squeeze(images)))\n",
    "    \n",
    "    print(\"kernel\")\n",
    "    print(sess.run(tf.squeeze(sobel_x_filter)))\n",
    "    \n",
    "    print(\"im2col-image\")\n",
    "    print(\"You see several matrices, each matrix has the elements to compute a \"\n",
    "          \"full line_i of the output\")\n",
    "    print(\"each line_i of the one of these matrices \"\n",
    "          \"produces one element j of a line in the output matrix\")\n",
    "    print(sess.run(tf.squeeze(image_patches)))\n",
    "    \n",
    "    print(\"im2col-filter\")\n",
    "    print(sess.run(tf.squeeze(tf.reshape(sobel_x_filter, [9]))))\n",
    "    \n",
    "    print(\"actual\")\n",
    "    print(sess.run(tf.squeeze(actual)))\n",
    "    \n",
    "    print(\"expected\")\n",
    "    print(sess.run(tf.squeeze(expected)))\n",
    "    \n",
    "    print(\"If result is zero, we are good:\")\n",
    "    print (sess.run(tf.reduce_sum(expected - actual)))"
   ]
  },
  {
   "cell_type": "code",
   "execution_count": 7,
   "metadata": {},
   "outputs": [],
   "source": [
    "# Experiment with reshaping the tensor:\n",
    "data_3d = np.arange(27).reshape((3,3,3))\n",
    "data_2d = data_3d.swapaxes(1,2).reshape(3,-1)"
   ]
  },
  {
   "cell_type": "code",
   "execution_count": null,
   "metadata": {},
   "outputs": [],
   "source": [
    "zero = tf.constant(0, dtype=tf.float32)\n",
    "where = tf.not_equal(A, zero)"
   ]
  },
  {
   "cell_type": "code",
   "execution_count": 116,
   "metadata": {},
   "outputs": [
    {
     "name": "stdout",
     "output_type": "stream",
     "text": [
      "[[0.5 0.  1. ]\n",
      " [0.5 0.  1. ]]\n",
      "\n",
      "[[1. 0. 1.]\n",
      " [0. 0. 1.]]\n"
     ]
    }
   ],
   "source": [
    "def get_dim_sparsity(input_tensor,dim=0):\n",
    "    x_dim_size = x.shape[dim]\n",
    "    dim_nz=tf.count_nonzero(x, dim)\n",
    "    dim_density = dim_nz/x_dim_size\n",
    "    sparsity_tensor = 1-dim_density\n",
    "    return sparsity_tensor\n",
    "\n",
    "def get_row_sparsity(input_tensor):\n",
    "    x_row_size = x.shape[0]\n",
    "    column_nz=tf.count_nonzero(x, 0)\n",
    "    column_density = column_nz/x_row_size\n",
    "    sparsity_tensor = 1-column_density\n",
    "    return sparsity_tensor\n",
    "\n",
    "def get_col_sparsity(input_tensor):\n",
    "    x_col_size = x.shape[1]\n",
    "    column_nz=tf.count_nonzero(x, 1)\n",
    "    column_density = column_nz/x_col_size\n",
    "    sparsity_tensor = 1-column_density\n",
    "    return sparsity_tensor\n",
    "\n",
    "\n",
    "x = tf.constant([[[0, 1, 0], \n",
    "                  [1, 1, 0]],\n",
    "                 [[0, 1, 0], \n",
    "                  [1, 1, 0]]])\n",
    "column_sparsity1 = get_col_sparsity(x)\n",
    "\n",
    "dim_sparsity2 = get_dim_sparsity(x)\n",
    "with tf.Session() as sess:\n",
    "    print(sess.run(column_sparsity1))\n",
    "    print()\n",
    "    print(sess.run(dim_sparsity2))\n"
   ]
  },
  {
   "cell_type": "code",
   "execution_count": 41,
   "metadata": {},
   "outputs": [
    {
     "name": "stdout",
     "output_type": "stream",
     "text": [
      "[[[1 2 3]\n",
      "  [4 5 6]]]\n",
      "\n",
      "(2, 2, 3)\n"
     ]
    }
   ],
   "source": [
    "def reshape_image_tensor(image_tensor):\n",
    "    \"\"\"Reshapes tensor batch_size x H x W x Channels.\"\"\"\n",
    "    \n",
    "    reshaped = image_tensor\n",
    "    \n",
    "    \n",
    "    return reshaped\n",
    "\n",
    "x = tf.constant([[[1, 2, 3], \n",
    "                  [4, 5, 6]],\n",
    "                 [[7, 8, 9], \n",
    "                  [0, 0, 0]]])\n",
    "\n",
    "last_indice = x.get_shape().as_list()[0] - 1\n",
    "res = tf.slice(x, [0, 0, 0], [1, -1, -1])\n",
    "\n",
    "with tf.Session() as sess:\n",
    "    print(sess.run(res))\n",
    "    print()\n",
    "    print(x.shape)"
   ]
  },
  {
   "cell_type": "code",
   "execution_count": 120,
   "metadata": {
    "scrolled": false
   },
   "outputs": [
    {
     "name": "stdout",
     "output_type": "stream",
     "text": [
      "[[[[4. 3.]\n",
      "   [1. 0.]\n",
      "   [1. 1.]\n",
      "   [2. 2.]]\n",
      "\n",
      "  [[2. 1.]\n",
      "   [0. 1.]\n",
      "   [2. 1.]\n",
      "   [0. 1.]]\n",
      "\n",
      "  [[1. 2.]\n",
      "   [4. 1.]\n",
      "   [2. 1.]\n",
      "   [0. 1.]]\n",
      "\n",
      "  [[3. 1.]\n",
      "   [0. 2.]\n",
      "   [2. 1.]\n",
      "   [0. 1.]]]\n",
      "\n",
      "\n",
      " [[[1. 1.]\n",
      "   [1. 1.]\n",
      "   [2. 1.]\n",
      "   [0. 1.]]\n",
      "\n",
      "  [[2. 2.]\n",
      "   [2. 2.]\n",
      "   [2. 1.]\n",
      "   [0. 1.]]\n",
      "\n",
      "  [[3. 3.]\n",
      "   [3. 3.]\n",
      "   [2. 1.]\n",
      "   [0. 1.]]\n",
      "\n",
      "  [[4. 5.]\n",
      "   [6. 7.]\n",
      "   [2. 1.]\n",
      "   [0. 1.]]]]\n",
      "\n",
      "[[[[4. 3. 1. 0. 2. 1. 0. 1.]\n",
      "   [1. 0. 1. 1. 0. 1. 2. 1.]\n",
      "   [1. 1. 2. 2. 2. 1. 0. 1.]\n",
      "   [2. 2. 0. 0. 0. 1. 0. 0.]]\n",
      "\n",
      "  [[2. 1. 0. 1. 1. 2. 4. 1.]\n",
      "   [0. 1. 2. 1. 4. 1. 2. 1.]\n",
      "   [2. 1. 0. 1. 2. 1. 0. 1.]\n",
      "   [0. 1. 0. 0. 0. 1. 0. 0.]]\n",
      "\n",
      "  [[1. 2. 4. 1. 3. 1. 0. 2.]\n",
      "   [4. 1. 2. 1. 0. 2. 2. 1.]\n",
      "   [2. 1. 0. 1. 2. 1. 0. 1.]\n",
      "   [0. 1. 0. 0. 0. 1. 0. 0.]]\n",
      "\n",
      "  [[3. 1. 0. 2. 0. 0. 0. 0.]\n",
      "   [0. 2. 2. 1. 0. 0. 0. 0.]\n",
      "   [2. 1. 0. 1. 0. 0. 0. 0.]\n",
      "   [0. 1. 0. 0. 0. 0. 0. 0.]]]\n",
      "\n",
      "\n",
      " [[[1. 1. 1. 1. 2. 2. 2. 2.]\n",
      "   [1. 1. 2. 1. 2. 2. 2. 1.]\n",
      "   [2. 1. 0. 1. 2. 1. 0. 1.]\n",
      "   [0. 1. 0. 0. 0. 1. 0. 0.]]\n",
      "\n",
      "  [[2. 2. 2. 2. 3. 3. 3. 3.]\n",
      "   [2. 2. 2. 1. 3. 3. 2. 1.]\n",
      "   [2. 1. 0. 1. 2. 1. 0. 1.]\n",
      "   [0. 1. 0. 0. 0. 1. 0. 0.]]\n",
      "\n",
      "  [[3. 3. 3. 3. 4. 5. 6. 7.]\n",
      "   [3. 3. 2. 1. 6. 7. 2. 1.]\n",
      "   [2. 1. 0. 1. 2. 1. 0. 1.]\n",
      "   [0. 1. 0. 0. 0. 1. 0. 0.]]\n",
      "\n",
      "  [[4. 5. 6. 7. 0. 0. 0. 0.]\n",
      "   [6. 7. 2. 1. 0. 0. 0. 0.]\n",
      "   [2. 1. 0. 1. 0. 0. 0. 0.]\n",
      "   [0. 1. 0. 0. 0. 0. 0. 0.]]]]\n"
     ]
    }
   ],
   "source": [
    "# Given an input tensor of shape `[batch, in_height, in_width, in_channels]`\n",
    "# And a and a filter / kernel tensor of shape `[filter_height, filter_width, in_channels, out_channels]`, this op\n",
    "x1 = tf.constant(\n",
    "[ # 2,4,4,1\n",
    "    [\n",
    "        [4, 3, 1, 0],\n",
    "        [2, 1, 0, 1],\n",
    "        [1, 2, 4, 1],\n",
    "        [3, 1, 0, 2]\n",
    "    ],\n",
    "    [\n",
    "        [1, 1, 1, 1],\n",
    "        [2, 2, 2, 2],\n",
    "        [3, 3, 3, 3],\n",
    "        [4, 5, 6, 7]\n",
    "    ],\n",
    "],dtype=tf.float32, name='i')\n",
    "\n",
    "x = tf.constant(\n",
    "[ # 2, 4, 4, 2\n",
    "    [\n",
    "        [[4, 3], [1, 0],[1, 1], [2, 2]],\n",
    "        [[2, 1], [0, 1],[2, 1], [0, 1]],  \n",
    "        [[1, 2], [4, 1],[2, 1], [0, 1]],\n",
    "        [[3, 1], [0, 2],[2, 1], [0, 1]]\n",
    "    ],\n",
    "    [\n",
    "        [[1, 1], [1, 1],[2, 1], [0, 1]],\n",
    "        [[2, 2], [2, 2],[2, 1], [0, 1]],\n",
    "        [[3, 3], [3, 3],[2, 1], [0, 1]],\n",
    "        [[4, 5], [6, 7],[2, 1], [0, 1]]\n",
    "    ],\n",
    "],dtype=tf.float32, name='i')\n",
    "\n",
    "#x  = tf.reshape(x, [2, 4, 4, 1], name='image')\n",
    "x  = tf.reshape(x, [2, 4, 4, 2], name='image')\n",
    "\n",
    "def get_image_patches(input_tensor, filter_size, filter_channels=1,n_of_filters=1):\n",
    "    image_patches = tf.extract_image_patches(input_tensor,\n",
    "                                         [1,filter_size, filter_size, 1],\n",
    "                                         [1, 1, 1, 1], [1, 1, 1, 1],\n",
    "                                         padding='SAME')\n",
    "    return image_patches\n",
    "\n",
    "image_patches = get_image_patches(x,2)\n",
    "with tf.Session() as sess:\n",
    "    print(sess.run(tf.squeeze(x)))\n",
    "    print()\n",
    "    \n",
    "    print(sess.run(image_patches))"
   ]
  },
  {
   "cell_type": "code",
   "execution_count": 151,
   "metadata": {
    "scrolled": false
   },
   "outputs": [
    {
     "name": "stdout",
     "output_type": "stream",
     "text": [
      "[[[[4. 3. 1. 0. 2. 1. 0. 1.]\n",
      "   [1. 0. 1. 1. 0. 1. 2. 1.]\n",
      "   [1. 1. 2. 2. 2. 1. 0. 1.]\n",
      "   [2. 2. 0. 0. 0. 1. 0. 0.]]\n",
      "\n",
      "  [[2. 1. 0. 1. 1. 2. 4. 1.]\n",
      "   [0. 1. 2. 1. 4. 1. 2. 1.]\n",
      "   [2. 1. 0. 1. 2. 1. 0. 1.]\n",
      "   [0. 1. 0. 0. 0. 1. 0. 0.]]\n",
      "\n",
      "  [[1. 2. 4. 1. 3. 1. 0. 2.]\n",
      "   [4. 1. 2. 1. 0. 2. 2. 1.]\n",
      "   [2. 1. 0. 1. 2. 1. 0. 1.]\n",
      "   [0. 1. 0. 0. 0. 1. 0. 0.]]\n",
      "\n",
      "  [[3. 1. 0. 2. 0. 0. 0. 0.]\n",
      "   [0. 2. 2. 1. 0. 0. 0. 0.]\n",
      "   [2. 1. 0. 1. 0. 0. 0. 0.]\n",
      "   [0. 1. 0. 0. 0. 0. 0. 0.]]]\n",
      "\n",
      "\n",
      " [[[1. 1. 1. 1. 2. 2. 2. 2.]\n",
      "   [1. 1. 2. 1. 2. 2. 2. 1.]\n",
      "   [2. 1. 0. 1. 2. 1. 0. 1.]\n",
      "   [0. 1. 0. 0. 0. 1. 0. 0.]]\n",
      "\n",
      "  [[2. 2. 2. 2. 3. 3. 3. 3.]\n",
      "   [2. 2. 2. 1. 3. 3. 2. 1.]\n",
      "   [2. 1. 0. 1. 2. 1. 0. 1.]\n",
      "   [0. 1. 0. 0. 0. 1. 0. 0.]]\n",
      "\n",
      "  [[3. 3. 3. 3. 4. 5. 6. 7.]\n",
      "   [3. 3. 2. 1. 6. 7. 2. 1.]\n",
      "   [2. 1. 0. 1. 2. 1. 0. 1.]\n",
      "   [0. 1. 0. 0. 0. 1. 0. 0.]]\n",
      "\n",
      "  [[4. 5. 6. 7. 0. 0. 0. 0.]\n",
      "   [6. 7. 2. 1. 0. 0. 0. 0.]\n",
      "   [2. 1. 0. 1. 0. 0. 0. 0.]\n",
      "   [0. 1. 0. 0. 0. 0. 0. 0.]]]]\n",
      "[[[0.25  0.25  0.125 0.625]\n",
      "  [0.125 0.125 0.25  0.75 ]\n",
      "  [0.125 0.125 0.25  0.75 ]\n",
      "  [0.625 0.625 0.625 0.875]]\n",
      "\n",
      " [[0.    0.    0.25  0.75 ]\n",
      "  [0.    0.    0.25  0.75 ]\n",
      "  [0.    0.    0.25  0.75 ]\n",
      "  [0.5   0.5   0.625 0.875]]]\n"
     ]
    }
   ],
   "source": [
    "def get_dim_sparsity(input_tensor,dim=0):\n",
    "    dim_size = input_tensor.shape[dim]\n",
    "    dim_nz=tf.count_nonzero(input_tensor, dim)\n",
    "    dim_density = dim_nz/dim_size\n",
    "    sparsity_tensor = 1-dim_density\n",
    "    return sparsity_tensor\n",
    "dim=3\n",
    "\n",
    "\n",
    "image_patches = get_image_patches(x,2)\n",
    "\n",
    "sparsity_out = get_dim_sparsity(image_patches,dim)\n",
    "\n",
    "with tf.Session() as sess: \n",
    "    print(sess.run(image_patches))\n",
    "    print(sess.run(sparsity_out))"
   ]
  },
  {
   "cell_type": "code",
   "execution_count": null,
   "metadata": {},
   "outputs": [],
   "source": []
  },
  {
   "cell_type": "code",
   "execution_count": null,
   "metadata": {},
   "outputs": [],
   "source": []
  }
 ],
 "metadata": {
  "kernelspec": {
   "display_name": "Python 3",
   "language": "python",
   "name": "python3"
  },
  "language_info": {
   "codemirror_mode": {
    "name": "ipython",
    "version": 3
   },
   "file_extension": ".py",
   "mimetype": "text/x-python",
   "name": "python",
   "nbconvert_exporter": "python",
   "pygments_lexer": "ipython3",
   "version": "3.6.8"
  }
 },
 "nbformat": 4,
 "nbformat_minor": 2
}
